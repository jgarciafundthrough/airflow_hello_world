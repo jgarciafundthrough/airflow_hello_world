{
 "cells": [
  {
   "cell_type": "code",
   "execution_count": 14,
   "metadata": {},
   "outputs": [],
   "source": [
    "import os \n",
    "import re"
   ]
  },
  {
   "cell_type": "code",
   "execution_count": 45,
   "metadata": {},
   "outputs": [
    {
     "name": "stdout",
     "output_type": "stream",
     "text": [
      "[client_credit_signals_live_test]\n"
     ]
    }
   ],
   "source": [
    "#This would change to the local Periscope git repo location\n",
    "input_dir = 'git_structure'\n",
    "#Denotes the field name that needs to be changed\n",
    "current_field_name = 'client_credit_signals_live'\n",
    "#Denotes what the current field name will be changed to\n",
    "new_field_name = 'client_credit_signals_live_test'\n",
    "\"\"\"_summary_\n",
    "    Loops through the local periscope github directory, if the file is a .sql file it is read, \n",
    "    the exact string matches (ignoring punctuation so aliases don't affect the renaming)\n",
    "    are then changed according to the current and new field name variables.\n",
    "\"\"\"\n",
    "print(current_field_name)\n",
    "for path, subdirs, files in os.walk(input_dir):\n",
    "    for file in files:\n",
    "        #Check file is a sql file\n",
    "        if file.endswith('.sql'):\n",
    "            #Open and read file data\n",
    "            with open(os.path.join(path, file)) as f:\n",
    "                data = f.read()\n",
    "            #Regular expression to replace old field name with new one\n",
    "            data = re.sub(r'\\b' + current_field_name + r'\\b', f'{new_field_name}', data)\n",
    "            # data = re.sub(r'\\\\b'+current_field_name+r'\\\\b', f'{new_field_name}', data)\n",
    "            #Rewrite file with updated data\n",
    "            with open(os.path.join(path, file), 'w') as f:\n",
    "                f.write(data)"
   ]
  }
 ],
 "metadata": {
  "interpreter": {
   "hash": "1fe956fe33884f52607c162725efadcbd272b7ad472b71eb41c9ea75829a7dfc"
  },
  "kernelspec": {
   "display_name": "Python 3.9.11 ('env': venv)",
   "language": "python",
   "name": "python3"
  },
  "language_info": {
   "codemirror_mode": {
    "name": "ipython",
    "version": 3
   },
   "file_extension": ".py",
   "mimetype": "text/x-python",
   "name": "python",
   "nbconvert_exporter": "python",
   "pygments_lexer": "ipython3",
   "version": "3.9.11"
  },
  "orig_nbformat": 4
 },
 "nbformat": 4,
 "nbformat_minor": 2
}
