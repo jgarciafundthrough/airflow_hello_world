{
 "cells": [
  {
   "cell_type": "code",
   "execution_count": null,
   "metadata": {},
   "outputs": [],
   "source": [
    "from datetime import datetime as dt\n",
    "from datetime import timedelta\n",
    "from airflow.utils.dates import days_ago\n",
    "#The DAG object; we'll need this to instantiate a DAG\n",
    "from airflow import DAG\n",
    "#importing the operators required\n",
    "from airflow.operators.python_operator import PythonOperator\n",
    "from airflow.operators.dummy_operator import DummyOperator\n",
    "#these args will get passed to each operator\n",
    "#these can be overridden on a per-task basis during operator #initialization\n",
    "#notice the start_date is any date in the past to be able to run it #as soon as it's created\n",
    "default_args = {\n",
    "'owner' : 'airflow',\n",
    "'depends_on_past' : False,\n",
    "'start_date' : days_ago(2),\n",
    "'email' : ['example@123.com'],\n",
    "'email_on_failure' : False,\n",
    "'email_on_retry' : False,\n",
    "'retries' : 1,\n",
    "'retry_delay' : timedelta(minutes=5)\n",
    "}\n",
    "dag = DAG(\n",
    "'hello_world',\n",
    "description = 'example workflow',\n",
    "default_args = default_args,\n",
    "schedule_interval = timedelta(days = 1)\n",
    ")\n",
    "def print_hello():\n",
    "    return (\"Hello world!\")\n",
    "#dummy_task_1 and hello_task_2 are examples of tasks created by #instantiating operators\n",
    "#Tasks are generated when instantiating operator objects. An object #instantiated from an operator is called a constructor. The first #argument task_id acts as a unique identifier for the task.\n",
    "#A task must include or inherit the arguments task_id and owner, #otherwise Airflow will raise an exception\n",
    "dummy_task_1 = DummyOperator(\n",
    " task_id = 'dummy_task',\n",
    " retries = 0,\n",
    " dag = dag)\n",
    "hello_task_2 = PythonOperator(\n",
    " task_id = 'hello_task', \n",
    " python_callable = print_hello, \n",
    " dag = dag)\n",
    "#setting up dependencies. hello_task_2 will run after the successful #run of dummy_task_1\n",
    "dummy_task_1 >> hello_task_2"
   ]
  }
 ],
 "metadata": {
  "interpreter": {
   "hash": "2d095d8332080631748ef962dcc56f035e686fac5497ece296a7a5286175b12d"
  },
  "kernelspec": {
   "display_name": "Python 3.9.11 ('env': venv)",
   "language": "python",
   "name": "python3"
  },
  "language_info": {
   "name": "python",
   "version": "3.9.11"
  },
  "orig_nbformat": 4
 },
 "nbformat": 4,
 "nbformat_minor": 2
}
